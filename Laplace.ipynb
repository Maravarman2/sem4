{
 "cells": [
  {
   "cell_type": "code",
   "execution_count": 1,
   "id": "928b91db",
   "metadata": {},
   "outputs": [],
   "source": [
    "import cv2 as cv\n",
    "import matplotlib.pyplot as plt\n",
    "import numpy as np"
   ]
  },
  {
   "cell_type": "markdown",
   "id": "0f038cfa",
   "metadata": {},
   "source": [
    "# Laplacian"
   ]
  },
  {
   "cell_type": "code",
   "execution_count": 2,
   "id": "20119fb8",
   "metadata": {},
   "outputs": [],
   "source": [
    "img = cv.imread(\"C:/Users/SN132/Desktop/zoro.1.jfif\",0)\n",
    "lap = cv.Laplacian(img,cv.CV_64F,ksize=3)\n",
    "cv.imshow('img',img)\n",
    "cv.imshow('laplacian',lap)\n",
    "cv.waitKey(0)\n",
    "cv.destroyAllWindows()"
   ]
  },
  {
   "cell_type": "markdown",
   "id": "bdcb6a31",
   "metadata": {},
   "source": [
    "# soble"
   ]
  },
  {
   "cell_type": "code",
   "execution_count": 4,
   "id": "9ec2d000",
   "metadata": {},
   "outputs": [],
   "source": [
    "img=cv.imread(\"C:/Users/SN132/Desktop/zoro.1.jfif\",0)\n",
    "sobelx=cv.Sobel(img,cv.CV_64F,1,0,ksize=3)\n",
    "sobel=np.uint8(np.absolute(sobelx))\n",
    "cv.imshow(\"img\",img)\n",
    "cv.imshow('sobelx',sobelx)\n",
    "cv.waitKey(0)\n",
    "cv.destroyAllWindows()"
   ]
  },
  {
   "cell_type": "code",
   "execution_count": null,
   "id": "2e4e6190",
   "metadata": {},
   "outputs": [],
   "source": []
  }
 ],
 "metadata": {
  "kernelspec": {
   "display_name": "Python 3 (ipykernel)",
   "language": "python",
   "name": "python3"
  },
  "language_info": {
   "codemirror_mode": {
    "name": "ipython",
    "version": 3
   },
   "file_extension": ".py",
   "mimetype": "text/x-python",
   "name": "python",
   "nbconvert_exporter": "python",
   "pygments_lexer": "ipython3",
   "version": "3.10.6"
  }
 },
 "nbformat": 4,
 "nbformat_minor": 5
}
