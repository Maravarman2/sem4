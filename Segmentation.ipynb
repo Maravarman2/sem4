{
 "cells": [
  {
   "cell_type": "markdown",
   "id": "6d0d8a51",
   "metadata": {},
   "source": [
    "# IMAGE SEGMENTATION"
   ]
  },
  {
   "cell_type": "code",
   "execution_count": 1,
   "id": "1fb6f2cd",
   "metadata": {},
   "outputs": [],
   "source": [
    "import cv2\n",
    "import numpy as np"
   ]
  },
  {
   "cell_type": "code",
   "execution_count": 2,
   "id": "f0766ee8",
   "metadata": {},
   "outputs": [],
   "source": [
    "img=cv2.imread(\"C:/Users/SN132/Desktop/ace.jpeg\")\n",
    "#select ROI\n",
    "r=cv2.selectROI(\"select the area\",img)\n",
    "#crop image\n",
    "cropped_image=img[int(r[1]):int(r[1]+r[3]),\n",
    "                    int(r[0]):int(r[0]+r[2])]\n",
    "#display image \n",
    "cv2.imshow(\"cropped image\",cropped_image)\n",
    "cv2.waitKey(0)\n",
    "cv2.destroyAllWindows()"
   ]
  },
  {
   "cell_type": "code",
   "execution_count": null,
   "id": "7e888669",
   "metadata": {},
   "outputs": [],
   "source": []
  }
 ],
 "metadata": {
  "kernelspec": {
   "display_name": "Python 3 (ipykernel)",
   "language": "python",
   "name": "python3"
  },
  "language_info": {
   "codemirror_mode": {
    "name": "ipython",
    "version": 3
   },
   "file_extension": ".py",
   "mimetype": "text/x-python",
   "name": "python",
   "nbconvert_exporter": "python",
   "pygments_lexer": "ipython3",
   "version": "3.10.6"
  }
 },
 "nbformat": 4,
 "nbformat_minor": 5
}
