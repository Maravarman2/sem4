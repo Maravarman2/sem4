{
 "cells": [
  {
   "cell_type": "code",
   "execution_count": 1,
   "id": "a271e2da",
   "metadata": {},
   "outputs": [],
   "source": [
    "import cv2 as cv\n",
    "import matplotlib.pyplot as plt\n",
    "import numpy as np"
   ]
  },
  {
   "cell_type": "markdown",
   "id": "bc269c98",
   "metadata": {},
   "source": [
    "# Filter"
   ]
  },
  {
   "cell_type": "code",
   "execution_count": 2,
   "id": "38e88334",
   "metadata": {},
   "outputs": [],
   "source": [
    "img=cv.imread(\"C:/Users/SN132/Desktop/zoro.1.jfif\")\n",
    "kernal=np.ones((100,100),np.float32)/10000\n",
    "filter= cv.filter2D(img,-1,kernal)\n",
    "cv.imshow('image',img)\n",
    "cv.imshow('filter2d',filter)\n",
    "cv.waitKey(0)\n",
    "cv.destroyAllWindows()"
   ]
  },
  {
   "cell_type": "markdown",
   "id": "98692b44",
   "metadata": {},
   "source": [
    "# Bluring"
   ]
  },
  {
   "cell_type": "code",
   "execution_count": 8,
   "id": "f44a33bc",
   "metadata": {},
   "outputs": [],
   "source": [
    "img=cv.imread(\"C:/Users/SN132/Desktop/zoro.1.jfif\")\n",
    "blur=cv.blur(img,(5,5))\n",
    "cv.imshow('image',img)\n",
    "cv.imshow('blur',blur)\n",
    "cv.waitKey(0)\n",
    "cv.destroyAllWindows()"
   ]
  },
  {
   "cell_type": "markdown",
   "id": "6772c772",
   "metadata": {},
   "source": [
    "# Gaussian Blur"
   ]
  },
  {
   "cell_type": "code",
   "execution_count": 4,
   "id": "7c6506d5",
   "metadata": {},
   "outputs": [
    {
     "name": "stdout",
     "output_type": "stream",
     "text": [
      "(600, 899, 3)\n"
     ]
    }
   ],
   "source": [
    "img =cv.imread(\"C:/Users/SN132/Desktop/RRR.jpg\")\n",
    "print(img.shape)\n",
    "Gblur = cv.GaussianBlur(img,(9,9),0)\n",
    "cv.imshow('image',img)\n",
    "cv.imshow('Gaussianblur',Gblur)\n",
    "cv.waitKey(0)\n",
    "cv.destroyAllWindows()"
   ]
  },
  {
   "cell_type": "markdown",
   "id": "e252696b",
   "metadata": {},
   "source": [
    "# Bilateral Filter"
   ]
  },
  {
   "cell_type": "code",
   "execution_count": 5,
   "id": "3fb356cb",
   "metadata": {},
   "outputs": [
    {
     "name": "stdout",
     "output_type": "stream",
     "text": [
      "(600, 899, 3)\n"
     ]
    }
   ],
   "source": [
    "img =cv.imread(\"C:/Users/SN132/Desktop/RRR.jpg\")\n",
    "print(img.shape)\n",
    "Bfilter = cv.bilateralFilter(img,9,50,50)\n",
    "cv.imshow('image',img)\n",
    "cv.imshow('Bilatralfilter',Bfilter)\n",
    "cv.waitKey(0)\n",
    "cv.destroyAllWindows()"
   ]
  },
  {
   "cell_type": "markdown",
   "id": "9385917a",
   "metadata": {},
   "source": [
    "# Median filter"
   ]
  },
  {
   "cell_type": "code",
   "execution_count": 9,
   "id": "3ad8dffa",
   "metadata": {},
   "outputs": [
    {
     "name": "stdout",
     "output_type": "stream",
     "text": [
      "(168, 300, 3)\n"
     ]
    }
   ],
   "source": [
    "img =cv.imread(\"C:/Users/SN132/Desktop/zoro.1.jfif\")\n",
    "print(img.shape)\n",
    "medianFilter = cv.medianBlur(img,9)\n",
    "cv.imshow('image',img)\n",
    "cv.imshow('medianBlur',medianFilter)\n",
    "cv.waitKey(0)\n",
    "cv.destroyAllWindows()"
   ]
  },
  {
   "cell_type": "code",
   "execution_count": null,
   "id": "e71ad5d3",
   "metadata": {},
   "outputs": [],
   "source": []
  }
 ],
 "metadata": {
  "kernelspec": {
   "display_name": "Python 3 (ipykernel)",
   "language": "python",
   "name": "python3"
  },
  "language_info": {
   "codemirror_mode": {
    "name": "ipython",
    "version": 3
   },
   "file_extension": ".py",
   "mimetype": "text/x-python",
   "name": "python",
   "nbconvert_exporter": "python",
   "pygments_lexer": "ipython3",
   "version": "3.10.6"
  }
 },
 "nbformat": 4,
 "nbformat_minor": 5
}
