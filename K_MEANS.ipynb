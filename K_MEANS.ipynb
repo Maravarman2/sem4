{
 "cells": [
  {
   "cell_type": "markdown",
   "id": "5c4b81a7",
   "metadata": {},
   "source": [
    "# k-Means clustering"
   ]
  },
  {
   "cell_type": "markdown",
   "id": "3a2959e3",
   "metadata": {},
   "source": [
    "### Importing Libraries"
   ]
  },
  {
   "cell_type": "code",
   "execution_count": 1,
   "id": "23e7a542",
   "metadata": {},
   "outputs": [],
   "source": [
    "import cv2\n",
    "import numpy as np"
   ]
  },
  {
   "cell_type": "code",
   "execution_count": 2,
   "id": "774c2722",
   "metadata": {},
   "outputs": [],
   "source": [
    "img=cv2.imread(\"C:/Users/SN132/Desktop/down.jpeg\")"
   ]
  },
  {
   "cell_type": "markdown",
   "id": "cb5c2a0d",
   "metadata": {},
   "source": [
    "# RGB Conversion"
   ]
  },
  {
   "cell_type": "code",
   "execution_count": 3,
   "id": "9b655776",
   "metadata": {},
   "outputs": [],
   "source": [
    "imgrgb=cv2.cvtColor(img,cv2.COLOR_BGR2RGB)"
   ]
  },
  {
   "cell_type": "markdown",
   "id": "44155ad5",
   "metadata": {},
   "source": [
    "# RESHAPE"
   ]
  },
  {
   "cell_type": "code",
   "execution_count": 4,
   "id": "99d3a6af",
   "metadata": {},
   "outputs": [
    {
     "data": {
      "text/plain": [
       "array([[60, 88, 89],\n",
       "       [59, 87, 88],\n",
       "       [57, 85, 86],\n",
       "       ...,\n",
       "       [ 0, 31, 38],\n",
       "       [ 0, 29, 36],\n",
       "       [ 0, 30, 38]], dtype=uint8)"
      ]
     },
     "execution_count": 4,
     "metadata": {},
     "output_type": "execute_result"
    }
   ],
   "source": [
    "vec=imgrgb.reshape((-1,3))\n",
    "vec"
   ]
  },
  {
   "cell_type": "markdown",
   "id": "09f7e44d",
   "metadata": {},
   "source": [
    "# Float Conversion"
   ]
  },
  {
   "cell_type": "code",
   "execution_count": 5,
   "id": "f450a18a",
   "metadata": {},
   "outputs": [
    {
     "data": {
      "text/plain": [
       "array([[60., 88., 89.],\n",
       "       [59., 87., 88.],\n",
       "       [57., 85., 86.],\n",
       "       ...,\n",
       "       [ 0., 31., 38.],\n",
       "       [ 0., 29., 36.],\n",
       "       [ 0., 30., 38.]], dtype=float32)"
      ]
     },
     "execution_count": 5,
     "metadata": {},
     "output_type": "execute_result"
    }
   ],
   "source": [
    "vec=np.float32(vec)\n",
    "vec"
   ]
  },
  {
   "cell_type": "markdown",
   "id": "3f3cfe36",
   "metadata": {},
   "source": [
    "# Iteration Termination Criteria"
   ]
  },
  {
   "cell_type": "code",
   "execution_count": 6,
   "id": "cd6d6705",
   "metadata": {},
   "outputs": [],
   "source": [
    "criteria =(cv2.TERM_CRITERIA_EPS+ cv2.TERM_CRITERIA_MAX_ITER,100,1)"
   ]
  },
  {
   "cell_type": "markdown",
   "id": "9f4223b6",
   "metadata": {},
   "source": [
    "# CLUSTER Condition"
   ]
  },
  {
   "cell_type": "code",
   "execution_count": 7,
   "id": "b9e80e87",
   "metadata": {},
   "outputs": [],
   "source": [
    "k = 3\n",
    "attempts = 100"
   ]
  },
  {
   "cell_type": "markdown",
   "id": "b5f06ad4",
   "metadata": {},
   "source": [
    "# K-Means Cluster"
   ]
  },
  {
   "cell_type": "code",
   "execution_count": 8,
   "id": "a3869d1e",
   "metadata": {},
   "outputs": [
    {
     "data": {
      "text/plain": [
       "array([[ 16.56177 ,  33.819736,  40.44013 ],\n",
       "       [193.29396 , 201.69734 , 188.15768 ],\n",
       "       [ 84.02139 , 115.72763 , 114.29635 ]], dtype=float32)"
      ]
     },
     "execution_count": 8,
     "metadata": {},
     "output_type": "execute_result"
    }
   ],
   "source": [
    "cmpactness,label,center=cv2.kmeans(vec,k,None,criteria,attempts,cv2.KMEANS_PP_CENTERS)\n",
    "center"
   ]
  },
  {
   "cell_type": "markdown",
   "id": "d89f630a",
   "metadata": {},
   "source": [
    "# UINT Convertion"
   ]
  },
  {
   "cell_type": "code",
   "execution_count": 9,
   "id": "a3bd7e35",
   "metadata": {},
   "outputs": [
    {
     "data": {
      "text/plain": [
       "array([[ 16,  33,  40],\n",
       "       [193, 201, 188],\n",
       "       [ 84, 115, 114]], dtype=uint8)"
      ]
     },
     "execution_count": 9,
     "metadata": {},
     "output_type": "execute_result"
    }
   ],
   "source": [
    "center = np.uint8(center)\n",
    "center"
   ]
  },
  {
   "cell_type": "markdown",
   "id": "2c378e1e",
   "metadata": {},
   "source": [
    "# Flattening and Reshape"
   ]
  },
  {
   "cell_type": "code",
   "execution_count": 10,
   "id": "a53b072a",
   "metadata": {},
   "outputs": [
    {
     "data": {
      "text/plain": [
       "array([[[ 84, 115, 114],\n",
       "        [ 84, 115, 114],\n",
       "        [ 84, 115, 114],\n",
       "        ...,\n",
       "        [ 16,  33,  40],\n",
       "        [ 16,  33,  40],\n",
       "        [ 16,  33,  40]],\n",
       "\n",
       "       [[ 84, 115, 114],\n",
       "        [ 84, 115, 114],\n",
       "        [ 84, 115, 114],\n",
       "        ...,\n",
       "        [ 16,  33,  40],\n",
       "        [ 16,  33,  40],\n",
       "        [ 16,  33,  40]],\n",
       "\n",
       "       [[ 84, 115, 114],\n",
       "        [ 84, 115, 114],\n",
       "        [ 84, 115, 114],\n",
       "        ...,\n",
       "        [ 16,  33,  40],\n",
       "        [ 16,  33,  40],\n",
       "        [ 16,  33,  40]],\n",
       "\n",
       "       ...,\n",
       "\n",
       "       [[ 16,  33,  40],\n",
       "        [ 16,  33,  40],\n",
       "        [ 16,  33,  40],\n",
       "        ...,\n",
       "        [ 16,  33,  40],\n",
       "        [ 16,  33,  40],\n",
       "        [ 16,  33,  40]],\n",
       "\n",
       "       [[ 16,  33,  40],\n",
       "        [ 16,  33,  40],\n",
       "        [ 16,  33,  40],\n",
       "        ...,\n",
       "        [ 16,  33,  40],\n",
       "        [ 16,  33,  40],\n",
       "        [ 16,  33,  40]],\n",
       "\n",
       "       [[ 16,  33,  40],\n",
       "        [ 16,  33,  40],\n",
       "        [ 16,  33,  40],\n",
       "        ...,\n",
       "        [ 16,  33,  40],\n",
       "        [ 16,  33,  40],\n",
       "        [ 16,  33,  40]]], dtype=uint8)"
      ]
     },
     "execution_count": 10,
     "metadata": {},
     "output_type": "execute_result"
    }
   ],
   "source": [
    "res = center[label.flatten()]\n",
    "res_img = res.reshape((imgrgb.shape))\n",
    "res_img"
   ]
  },
  {
   "cell_type": "markdown",
   "id": "8320336f",
   "metadata": {},
   "source": [
    "# IMAGE PROCESSING"
   ]
  },
  {
   "cell_type": "code",
   "execution_count": 11,
   "id": "025aaf83",
   "metadata": {},
   "outputs": [],
   "source": [
    "cv2.imshow(\"img\",img)\n",
    "cv2.imshow(\"segmented\",res_img)\n",
    "cv2.waitKey(0)\n",
    "cv2.destroyAllWindows()"
   ]
  },
  {
   "cell_type": "markdown",
   "id": "62fb8b5a",
   "metadata": {},
   "source": [
    "# MEAN SHIFT"
   ]
  },
  {
   "cell_type": "code",
   "execution_count": 12,
   "id": "3b781830",
   "metadata": {},
   "outputs": [],
   "source": [
    "img=cv2.imread(\"C:/Users/SN132/Desktop/down.jpeg\")\n",
    "segmented_image = cv2.pyrMeanShiftFiltering(img,40,40)\n",
    "cv2.imshow(\"img\",img)\n",
    "cv2.imshow(\"segmented_image\",segmented_image)\n",
    "cv2.waitKey(0)\n",
    "cv2.destroyAllWindows()"
   ]
  },
  {
   "cell_type": "code",
   "execution_count": null,
   "id": "39824869",
   "metadata": {},
   "outputs": [],
   "source": []
  }
 ],
 "metadata": {
  "kernelspec": {
   "display_name": "Python 3 (ipykernel)",
   "language": "python",
   "name": "python3"
  },
  "language_info": {
   "codemirror_mode": {
    "name": "ipython",
    "version": 3
   },
   "file_extension": ".py",
   "mimetype": "text/x-python",
   "name": "python",
   "nbconvert_exporter": "python",
   "pygments_lexer": "ipython3",
   "version": "3.10.6"
  }
 },
 "nbformat": 4,
 "nbformat_minor": 5
}
